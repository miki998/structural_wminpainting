{
 "cells": [
  {
   "cell_type": "code",
   "execution_count": 1,
   "metadata": {},
   "outputs": [],
   "source": [
    "import sys\n",
    "import importlib\n",
    "\n",
    "import random \n",
    "import networkx as nx\n",
    "\n",
    "sys.path.append(\"../\")\n",
    "\n",
    "from src import utils\n",
    "from src.utils import *\n",
    "\n",
    "from src import plot_utils\n",
    "from src import graph_utils\n",
    "from src import inpaint_utils\n",
    "from src import fiberatlas_utils"
   ]
  },
  {
   "cell_type": "markdown",
   "metadata": {},
   "source": [
    "## Description\n",
    "### Regressing Bundle Activities\n",
    "Considering different edge combination model:\n",
    "- Fully connected\n",
    "- Randomized edge distribution"
   ]
  },
  {
   "cell_type": "code",
   "execution_count": 50,
   "metadata": {},
   "outputs": [],
   "source": [
    "scale = 1\n",
    "connFilename = f'../../atlas_data/fiber_atlas/probconnatlas/wm.connatlas.scale{scale}.h5'\n",
    "hf = h5py.File(connFilename, 'r')\n",
    "\n",
    "centers = np.array(hf.get('header').get('gmcoords'))\n",
    "nsubject = hf.get('header').get('nsubjects')[()]\n",
    "dim = hf.get('header').get('dim')[()]\n",
    "fiber_affine = hf.get('header').get('affine')[()]\n",
    "\n",
    "gmregions_names = hf.get('header').get('gmregions')[()]\n",
    "nb_regions = gmregions_names.shape[0]\n",
    "\n",
    "gm_mask_subj = nib.load('../../atlas_data/moviedata_fMRI_eg/gm_mask_subj7.nii').get_fdata() \n",
    "wm_mask_subj = (gm_mask_subj + 1) % 2\n",
    "\n",
    "consistency_view = fiberatlas_utils.get_aggprop(hf, 'consistency')\n",
    "length_view = fiberatlas_utils.get_aggprop(hf, 'length')\n",
    "nbStlines_view = fiberatlas_utils.get_aggprop(hf, 'numbStlines')\n",
    "nb_regions = consistency_view.shape[0]"
   ]
  },
  {
   "cell_type": "code",
   "execution_count": 64,
   "metadata": {},
   "outputs": [
    {
     "name": "stderr",
     "output_type": "stream",
     "text": [
      "100%|██████████| 95/95 [00:21<00:00,  4.37it/s]\n"
     ]
    }
   ],
   "source": [
    "thresh_subjapp = int(np.ceil(nsubject * 0.1)) \n",
    "\n",
    "X_original = []\n",
    "bundles_labels = []\n",
    "for i in tqdm(range(1,nb_regions + 1)):\n",
    "    for j in range(i,nb_regions + 1):\n",
    "        tmp = fiberatlas_utils.get_bundles_betweenreg(hf, i, j, verbose=False)\n",
    "        if tmp is None: continue\n",
    "        if np.sum(tmp[:,3] >= (thresh_subjapp)) == 0: continue\n",
    "        bundles_labels.append((i,j))\n",
    "        vec = np.zeros(nb_regions)\n",
    "        vec[i-1] = 1.0\n",
    "        vec[j-1] = 1.0\n",
    "        X_original.append(vec)\n",
    "\n",
    "X_original = np.array(X_original)"
   ]
  },
  {
   "cell_type": "code",
   "execution_count": 74,
   "metadata": {},
   "outputs": [
    {
     "name": "stderr",
     "output_type": "stream",
     "text": [
      "100%|██████████| 95/95 [00:00<00:00, 62337.12it/s]\n",
      "100%|██████████| 95/95 [00:00<00:00, 31229.63it/s]\n"
     ]
    }
   ],
   "source": [
    "X_full = []\n",
    "bundles_labels_full = []\n",
    "for i in tqdm(range(1,nb_regions + 1)):\n",
    "    for j in range(i,nb_regions + 1):\n",
    "        bundles_labels_full.append((i,j))\n",
    "        vec = np.zeros(nb_regions)\n",
    "        vec[i-1] = 1.0\n",
    "        vec[j-1] = 1.0\n",
    "        X_full.append(vec)\n",
    "\n",
    "X_full = np.array(X_full)"
   ]
  },
  {
   "cell_type": "code",
   "execution_count": 83,
   "metadata": {},
   "outputs": [],
   "source": [
    "region_ftimecourse = load(f\"../../atlas_data/moviedata_fMRI_eg/yasseratlased_fmri/ftimecourse_95_scale{scale}.pkl\")\n",
    "regions_in_voxels = load(f'../../atlas_data/fiber_atlas/regions95_voxels_scale{scale}.pkl')[:,:,:,1:]\n",
    "nb_time = region_ftimecourse.shape[1]"
   ]
  },
  {
   "cell_type": "code",
   "execution_count": 91,
   "metadata": {},
   "outputs": [
    {
     "name": "stderr",
     "output_type": "stream",
     "text": [
      "100%|██████████| 200/200 [04:50<00:00,  1.45s/it]\n"
     ]
    },
    {
     "name": "stdout",
     "output_type": "stream",
     "text": [
      "Losses are decomposed into:\n",
      "generic loss=tensor([55.7381])\n",
      "spatialloss=tensor([0.])\n",
      "temporalloss=tensor([0.])\n",
      "sumloss=tensor([55.7381])\n"
     ]
    },
    {
     "name": "stderr",
     "output_type": "stream",
     "text": [
      "100%|██████████| 200/200 [02:42<00:00,  1.23it/s]\n"
     ]
    },
    {
     "name": "stdout",
     "output_type": "stream",
     "text": [
      "Losses are decomposed into:\n",
      "generic loss=tensor([29.3055])\n",
      "spatialloss=tensor([0.])\n",
      "temporalloss=tensor([0.])\n",
      "sumloss=tensor([29.3055])\n"
     ]
    },
    {
     "name": "stderr",
     "output_type": "stream",
     "text": [
      "100%|██████████| 200/200 [11:45<00:00,  3.53s/it]"
     ]
    },
    {
     "name": "stdout",
     "output_type": "stream",
     "text": [
      "Losses are decomposed into:\n",
      "generic loss=tensor([84.4159])\n",
      "spatialloss=tensor([0.])\n",
      "temporalloss=tensor([0.])\n",
      "sumloss=tensor([84.4159])\n"
     ]
    },
    {
     "name": "stderr",
     "output_type": "stream",
     "text": [
      "\n"
     ]
    }
   ],
   "source": [
    "p1, p2 = 0, 0\n",
    "\n",
    "dummy_space_reg = np.zeros((len(X_original), len(X_original)))\n",
    "dummy_temp_reg = np.zeros((nb_time, nb_time))\n",
    "Xmult = np.array([X_original.T for _ in range(region_ftimecourse.shape[-1])])\n",
    "bundle_opt_original, logs = inpaint_utils.optimize_lreg(Xmult, region_ftimecourse, Ls=dummy_space_reg, Lt=dummy_temp_reg,\n",
    "                                               verbose=True, num_epochs=200, logging=True, p1=p1, p2=p2, lr=1)\n",
    "\n",
    "dummy_space_reg = np.zeros((len(X_randomized_deg), len(X_randomized_deg)))\n",
    "Xmult = np.array([X_randomized_deg.T for _ in range(region_ftimecourse.shape[-1])])\n",
    "bundle_opt_rand, logs = inpaint_utils.optimize_lreg(Xmult, region_ftimecourse, Ls=dummy_space_reg, Lt=dummy_temp_reg, \n",
    "                                               verbose=True, num_epochs=200, logging=True, p1=p1, p2=p2, lr=1)\n",
    "\n",
    "dummy_space_reg = np.zeros((len(X_full), len(X_full)))\n",
    "Xmult = np.array([X_full.T for _ in range(region_ftimecourse.shape[-1])])\n",
    "bundle_opt_full, logs = inpaint_utils.optimize_lreg(Xmult, region_ftimecourse, Ls=dummy_space_reg, Lt=dummy_temp_reg, \n",
    "                                               verbose=True, num_epochs=200, logging=True, p1=p1, p2=p2, lr=1)"
   ]
  },
  {
   "cell_type": "code",
   "execution_count": 104,
   "metadata": {},
   "outputs": [],
   "source": [
    "utils.save('../resources/null_bundle_activities/bundle_opt_full.pkl', bundle_opt_full)\n",
    "utils.save('../resources/null_bundle_activities/bundle_opt_original.pkl', bundle_opt_original)"
   ]
  },
  {
   "cell_type": "code",
   "execution_count": 105,
   "metadata": {},
   "outputs": [
    {
     "name": "stderr",
     "output_type": "stream",
     "text": [
      "100%|██████████| 95/95 [00:00<00:00, 49738.97it/s]\n",
      "100%|██████████| 200/200 [03:13<00:00,  1.03it/s]\n"
     ]
    },
    {
     "name": "stdout",
     "output_type": "stream",
     "text": [
      "Losses are decomposed into:\n",
      "generic loss=tensor([15.6205])\n",
      "spatialloss=tensor([0.])\n",
      "temporalloss=tensor([0.])\n",
      "sumloss=tensor([15.6205])\n"
     ]
    },
    {
     "name": "stderr",
     "output_type": "stream",
     "text": [
      "100%|██████████| 95/95 [00:00<00:00, 73421.57it/s]\n",
      "100%|██████████| 200/200 [02:56<00:00,  1.13it/s]\n"
     ]
    },
    {
     "name": "stdout",
     "output_type": "stream",
     "text": [
      "Losses are decomposed into:\n",
      "generic loss=tensor([2.4244])\n",
      "spatialloss=tensor([0.])\n",
      "temporalloss=tensor([0.])\n",
      "sumloss=tensor([2.4244])\n"
     ]
    },
    {
     "name": "stderr",
     "output_type": "stream",
     "text": [
      "100%|██████████| 95/95 [00:00<00:00, 70361.80it/s]\n",
      "100%|██████████| 200/200 [02:51<00:00,  1.17it/s]\n"
     ]
    },
    {
     "name": "stdout",
     "output_type": "stream",
     "text": [
      "Losses are decomposed into:\n",
      "generic loss=tensor([31.4012])\n",
      "spatialloss=tensor([0.])\n",
      "temporalloss=tensor([0.])\n",
      "sumloss=tensor([31.4012])\n"
     ]
    },
    {
     "name": "stderr",
     "output_type": "stream",
     "text": [
      "100%|██████████| 95/95 [00:00<00:00, 71975.95it/s]\n",
      "100%|██████████| 200/200 [03:06<00:00,  1.07it/s]\n"
     ]
    },
    {
     "name": "stdout",
     "output_type": "stream",
     "text": [
      "Losses are decomposed into:\n",
      "generic loss=tensor([19.4902])\n",
      "spatialloss=tensor([0.])\n",
      "temporalloss=tensor([0.])\n",
      "sumloss=tensor([19.4902])\n"
     ]
    },
    {
     "name": "stderr",
     "output_type": "stream",
     "text": [
      "100%|██████████| 95/95 [00:00<00:00, 75408.57it/s]\n",
      "100%|██████████| 200/200 [03:03<00:00,  1.09it/s]\n"
     ]
    },
    {
     "name": "stdout",
     "output_type": "stream",
     "text": [
      "Losses are decomposed into:\n",
      "generic loss=tensor([23.8285])\n",
      "spatialloss=tensor([0.])\n",
      "temporalloss=tensor([0.])\n",
      "sumloss=tensor([23.8285])\n"
     ]
    },
    {
     "name": "stderr",
     "output_type": "stream",
     "text": [
      "100%|██████████| 95/95 [00:00<00:00, 58459.34it/s]\n",
      "100%|██████████| 200/200 [02:52<00:00,  1.16it/s]\n"
     ]
    },
    {
     "name": "stdout",
     "output_type": "stream",
     "text": [
      "Losses are decomposed into:\n",
      "generic loss=tensor([3.9615])\n",
      "spatialloss=tensor([0.])\n",
      "temporalloss=tensor([0.])\n",
      "sumloss=tensor([3.9615])\n"
     ]
    },
    {
     "name": "stderr",
     "output_type": "stream",
     "text": [
      "100%|██████████| 95/95 [00:00<00:00, 67329.99it/s]\n",
      "100%|██████████| 200/200 [03:07<00:00,  1.07it/s]\n"
     ]
    },
    {
     "name": "stdout",
     "output_type": "stream",
     "text": [
      "Losses are decomposed into:\n",
      "generic loss=tensor([9.3289])\n",
      "spatialloss=tensor([0.])\n",
      "temporalloss=tensor([0.])\n",
      "sumloss=tensor([9.3289])\n"
     ]
    },
    {
     "name": "stderr",
     "output_type": "stream",
     "text": [
      "100%|██████████| 95/95 [00:00<00:00, 71691.05it/s]\n",
      "100%|██████████| 200/200 [03:01<00:00,  1.10it/s]\n"
     ]
    },
    {
     "name": "stdout",
     "output_type": "stream",
     "text": [
      "Losses are decomposed into:\n",
      "generic loss=tensor([4.5555])\n",
      "spatialloss=tensor([0.])\n",
      "temporalloss=tensor([0.])\n",
      "sumloss=tensor([4.5555])\n"
     ]
    },
    {
     "name": "stderr",
     "output_type": "stream",
     "text": [
      "100%|██████████| 95/95 [00:00<00:00, 69285.15it/s]\n",
      "100%|██████████| 200/200 [02:59<00:00,  1.11it/s]\n"
     ]
    },
    {
     "name": "stdout",
     "output_type": "stream",
     "text": [
      "Losses are decomposed into:\n",
      "generic loss=tensor([18.1055])\n",
      "spatialloss=tensor([0.])\n",
      "temporalloss=tensor([0.])\n",
      "sumloss=tensor([18.1055])\n"
     ]
    },
    {
     "name": "stderr",
     "output_type": "stream",
     "text": [
      "100%|██████████| 95/95 [00:00<00:00, 74631.74it/s]\n",
      "100%|██████████| 200/200 [03:05<00:00,  1.08it/s]\n"
     ]
    },
    {
     "name": "stdout",
     "output_type": "stream",
     "text": [
      "Losses are decomposed into:\n",
      "generic loss=tensor([15.1714])\n",
      "spatialloss=tensor([0.])\n",
      "temporalloss=tensor([0.])\n",
      "sumloss=tensor([15.1714])\n"
     ]
    },
    {
     "name": "stderr",
     "output_type": "stream",
     "text": [
      "100%|██████████| 95/95 [00:00<00:00, 75839.15it/s]\n",
      "100%|██████████| 200/200 [02:59<00:00,  1.11it/s]\n"
     ]
    },
    {
     "name": "stdout",
     "output_type": "stream",
     "text": [
      "Losses are decomposed into:\n",
      "generic loss=tensor([41.5890])\n",
      "spatialloss=tensor([0.])\n",
      "temporalloss=tensor([0.])\n",
      "sumloss=tensor([41.5890])\n"
     ]
    },
    {
     "name": "stderr",
     "output_type": "stream",
     "text": [
      "100%|██████████| 95/95 [00:00<00:00, 76012.76it/s]\n",
      "100%|██████████| 200/200 [03:04<00:00,  1.09it/s]\n"
     ]
    },
    {
     "name": "stdout",
     "output_type": "stream",
     "text": [
      "Losses are decomposed into:\n",
      "generic loss=tensor([28.5035])\n",
      "spatialloss=tensor([0.])\n",
      "temporalloss=tensor([0.])\n",
      "sumloss=tensor([28.5035])\n"
     ]
    },
    {
     "name": "stderr",
     "output_type": "stream",
     "text": [
      "100%|██████████| 95/95 [00:00<00:00, 77220.71it/s]\n",
      "100%|██████████| 200/200 [02:53<00:00,  1.15it/s]\n"
     ]
    },
    {
     "name": "stdout",
     "output_type": "stream",
     "text": [
      "Losses are decomposed into:\n",
      "generic loss=tensor([36.1356])\n",
      "spatialloss=tensor([0.])\n",
      "temporalloss=tensor([0.])\n",
      "sumloss=tensor([36.1356])\n"
     ]
    },
    {
     "name": "stderr",
     "output_type": "stream",
     "text": [
      "100%|██████████| 95/95 [00:00<00:00, 74673.70it/s]\n",
      "100%|██████████| 200/200 [03:01<00:00,  1.10it/s]\n"
     ]
    },
    {
     "name": "stdout",
     "output_type": "stream",
     "text": [
      "Losses are decomposed into:\n",
      "generic loss=tensor([22.1836])\n",
      "spatialloss=tensor([0.])\n",
      "temporalloss=tensor([0.])\n",
      "sumloss=tensor([22.1836])\n"
     ]
    },
    {
     "name": "stderr",
     "output_type": "stream",
     "text": [
      "100%|██████████| 95/95 [00:00<00:00, 69648.47it/s]\n",
      "100%|██████████| 200/200 [02:58<00:00,  1.12it/s]\n"
     ]
    },
    {
     "name": "stdout",
     "output_type": "stream",
     "text": [
      "Losses are decomposed into:\n",
      "generic loss=tensor([17.3596])\n",
      "spatialloss=tensor([0.])\n",
      "temporalloss=tensor([0.])\n",
      "sumloss=tensor([17.3596])\n"
     ]
    },
    {
     "name": "stderr",
     "output_type": "stream",
     "text": [
      "100%|██████████| 95/95 [00:00<00:00, 73816.02it/s]\n",
      "100%|██████████| 200/200 [03:07<00:00,  1.07it/s]\n"
     ]
    },
    {
     "name": "stdout",
     "output_type": "stream",
     "text": [
      "Losses are decomposed into:\n",
      "generic loss=tensor([9.1804])\n",
      "spatialloss=tensor([0.])\n",
      "temporalloss=tensor([0.])\n",
      "sumloss=tensor([9.1804])\n"
     ]
    },
    {
     "name": "stderr",
     "output_type": "stream",
     "text": [
      "100%|██████████| 95/95 [00:00<00:00, 70673.80it/s]\n",
      "100%|██████████| 200/200 [03:04<00:00,  1.08it/s]\n"
     ]
    },
    {
     "name": "stdout",
     "output_type": "stream",
     "text": [
      "Losses are decomposed into:\n",
      "generic loss=tensor([12.2512])\n",
      "spatialloss=tensor([0.])\n",
      "temporalloss=tensor([0.])\n",
      "sumloss=tensor([12.2512])\n"
     ]
    },
    {
     "name": "stderr",
     "output_type": "stream",
     "text": [
      "100%|██████████| 95/95 [00:00<00:00, 72738.02it/s]\n",
      "100%|██████████| 200/200 [03:00<00:00,  1.11it/s]\n"
     ]
    },
    {
     "name": "stdout",
     "output_type": "stream",
     "text": [
      "Losses are decomposed into:\n",
      "generic loss=tensor([14.0912])\n",
      "spatialloss=tensor([0.])\n",
      "temporalloss=tensor([0.])\n",
      "sumloss=tensor([14.0912])\n"
     ]
    },
    {
     "name": "stderr",
     "output_type": "stream",
     "text": [
      "100%|██████████| 95/95 [00:00<00:00, 67661.55it/s]\n",
      "100%|██████████| 200/200 [02:51<00:00,  1.17it/s]\n"
     ]
    },
    {
     "name": "stdout",
     "output_type": "stream",
     "text": [
      "Losses are decomposed into:\n",
      "generic loss=tensor([20.4410])\n",
      "spatialloss=tensor([0.])\n",
      "temporalloss=tensor([0.])\n",
      "sumloss=tensor([20.4410])\n"
     ]
    },
    {
     "name": "stderr",
     "output_type": "stream",
     "text": [
      "100%|██████████| 95/95 [00:00<00:00, 77056.45it/s]\n",
      "100%|██████████| 200/200 [02:57<00:00,  1.13it/s]"
     ]
    },
    {
     "name": "stdout",
     "output_type": "stream",
     "text": [
      "Losses are decomposed into:\n",
      "generic loss=tensor([42.5198])\n",
      "spatialloss=tensor([0.])\n",
      "temporalloss=tensor([0.])\n",
      "sumloss=tensor([42.5198])\n"
     ]
    },
    {
     "name": "stderr",
     "output_type": "stream",
     "text": [
      "\n"
     ]
    }
   ],
   "source": [
    "conn_mat = np.zeros_like(consistency_view)\n",
    "bundles_labels_reordered = np.array(bundles_labels) - 1\n",
    "for pair in bundles_labels_reordered:\n",
    "    conn_mat[pair[0], pair[1]] = 1.\n",
    "    conn_mat[pair[1], pair[0]] = 1.\n",
    "z = conn_mat.sum(axis=0)\n",
    "\n",
    "random_trial = {}\n",
    "for k in range(20):\n",
    "    G = nx.configuration_model(z, seed=k)\n",
    "    randomized_adj = nx.adjacency_matrix(G).todense()\n",
    "        \n",
    "    X_randomized_deg = []\n",
    "    bundles_labels_rand = []\n",
    "    for i in tqdm(range(1,nb_regions + 1)):\n",
    "        for j in range(i,nb_regions + 1):\n",
    "            if randomized_adj[i-1,j-1]:\n",
    "                bundles_labels_rand.append((i,j))\n",
    "                vec = np.zeros(nb_regions)\n",
    "                vec[i-1] = 1.0\n",
    "                vec[j-1] = 1.0\n",
    "                X_randomized_deg.append(vec)\n",
    "\n",
    "    X_randomized_deg = np.array(X_randomized_deg)\n",
    "\n",
    "    dummy_space_reg = np.zeros((len(X_randomized_deg), len(X_randomized_deg)))\n",
    "    Xmult = np.array([X_randomized_deg.T for _ in range(region_ftimecourse.shape[-1])])\n",
    "    bundle_opt_rand, logs = inpaint_utils.optimize_lreg(Xmult, region_ftimecourse, Ls=dummy_space_reg, Lt=dummy_temp_reg, \n",
    "                                                verbose=True, num_epochs=200, logging=True, p1=p1, p2=p2, lr=1)\n",
    "\n",
    "    random_trial[k] = bundle_opt_rand"
   ]
  },
  {
   "cell_type": "code",
   "execution_count": 106,
   "metadata": {},
   "outputs": [],
   "source": [
    "utils.save('../resources/null_bundle_activities/bundle_opt_rand_trials.pkl', random_trial)"
   ]
  },
  {
   "cell_type": "code",
   "execution_count": null,
   "metadata": {},
   "outputs": [],
   "source": [
    "# NOTE: Close the opened h5 file\n",
    "hf.close()"
   ]
  }
 ],
 "metadata": {
  "kernelspec": {
   "display_name": "Python 3 (ipykernel)",
   "language": "python",
   "name": "python3"
  },
  "language_info": {
   "codemirror_mode": {
    "name": "ipython",
    "version": 3
   },
   "file_extension": ".py",
   "mimetype": "text/x-python",
   "name": "python",
   "nbconvert_exporter": "python",
   "pygments_lexer": "ipython3",
   "version": "3.8.18"
  }
 },
 "nbformat": 4,
 "nbformat_minor": 4
}
